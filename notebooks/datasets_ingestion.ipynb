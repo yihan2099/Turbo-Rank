{
 "cells": [
  {
   "cell_type": "code",
   "execution_count": 1,
   "id": "dd471b1e",
   "metadata": {},
   "outputs": [
    {
     "name": "stderr",
     "output_type": "stream",
     "text": [
      "  4%|▍         | 1.98k/51.8k [00:01<00:28, 1.75kKB/s]"
     ]
    },
    {
     "name": "stderr",
     "output_type": "stream",
     "text": [
      "100%|██████████| 51.8k/51.8k [00:36<00:00, 1.42kKB/s]\n",
      "100%|██████████| 30.2k/30.2k [00:21<00:00, 1.40kKB/s]\n"
     ]
    },
    {
     "name": "stdout",
     "output_type": "stream",
     "text": [
      "Extracted: MINDsmall_dev.zip → ../data/mind/MINDsmall_dev\n",
      "Extracted: MINDsmall_train.zip → ../data/mind/MINDsmall_train\n"
     ]
    }
   ],
   "source": [
    "import zipfile\n",
    "import os\n",
    "from recommenders.datasets import mind\n",
    "\n",
    "# Download dataset\n",
    "mind.download_mind(size='small', dest_path='../data/mind')\n",
    "\n",
    "# Unzip all zip files in the download directory\n",
    "zip_dir = '../data/mind'\n",
    "for filename in os.listdir(zip_dir):\n",
    "    if filename.endswith('.zip'):\n",
    "        zip_path = os.path.join(zip_dir, filename)\n",
    "        extract_path = os.path.join(zip_dir, filename.replace('.zip', ''))\n",
    "        os.makedirs(extract_path, exist_ok=True)\n",
    "        with zipfile.ZipFile(zip_path, 'r') as zip_ref:\n",
    "            zip_ref.extractall(extract_path)\n",
    "        print(f\"Extracted: {filename} → {extract_path}\")"
   ]
  }
 ],
 "metadata": {
  "kernelspec": {
   "display_name": ".venv",
   "language": "python",
   "name": "python3"
  },
  "language_info": {
   "codemirror_mode": {
    "name": "ipython",
    "version": 3
   },
   "file_extension": ".py",
   "mimetype": "text/x-python",
   "name": "python",
   "nbconvert_exporter": "python",
   "pygments_lexer": "ipython3",
   "version": "3.10.17"
  }
 },
 "nbformat": 4,
 "nbformat_minor": 5
}
